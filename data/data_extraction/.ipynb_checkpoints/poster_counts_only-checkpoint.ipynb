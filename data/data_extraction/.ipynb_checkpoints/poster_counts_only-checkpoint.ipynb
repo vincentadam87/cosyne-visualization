{
 "metadata": {
  "name": ""
 },
 "nbformat": 3,
 "nbformat_minor": 0,
 "worksheets": [
  {
   "cells": [
    {
     "cell_type": "code",
     "collapsed": false,
     "input": [
      "from numpy import ndarray\n",
      "\n",
      "# making authors list\n",
      "def make_authors_list_from_csv(filename):\n",
      "    authors_list = []\n",
      "    with open(filename+'.csv') as f:\n",
      "        next(f)\n",
      "        for line in f:\n",
      "            split = line.split('|')\n",
      "            authors = split[2].split(',')            \n",
      "            authors_clean = []\n",
      "            for author in authors:\n",
      "                authors_clean.append(author.lstrip())\n",
      "            # authors list\n",
      "            for author in authors_clean:\n",
      "                author= author.lstrip()\n",
      "                if not(author in authors_list):\n",
      "                    authors_list.append(author.lstrip())        \n",
      "    authors_list = sorted(authors_list)\n",
      "    authors_dict = {}\n",
      "    i = 0\n",
      "    for author in authors_list:\n",
      "        authors_dict[author] = i\n",
      "        i+=1\n",
      "    return authors_list,authors_dict\n",
      "\n",
      "\n",
      "\n",
      "# making dictionnary for indexing author   \n",
      "# construction poster dictionary  \n",
      "# for each poster: the list of collaborators\n",
      "def make_poster_dict_from_csv(filename):\n",
      "    poster_count = {}\n",
      "    poster_dict = {}\n",
      "    with open(filename+'.csv') as f:\n",
      "        next(f)\n",
      "        for line in f:\n",
      "            split = line.split('|')\n",
      "            posterid =int(split[0])\n",
      "            authors = split[2].split(',')            \n",
      "            authors_id = []\n",
      "            for author in authors:\n",
      "                author = author.lstrip()\n",
      "                authors_id.append(authors_dict[author.lstrip()])\n",
      "                if author in poster_count:\n",
      "                    poster_count[author]+=1\n",
      "                else:\n",
      "                    poster_count[author]=1\n",
      "            poster_dict[posterid] = authors_id\n",
      "            \n",
      "#            for author in poster_count:                \n",
      "#                poster_count_list.append([author,poster_count[author]])\n",
      "            \n",
      "    return poster_dict,poster_count  \n",
      "\n",
      "\n",
      "import os\n",
      "# poster count when multiple poster\n",
      "def make_json_poster_count(poster_count,filename,number_min=1):\n",
      "    poster_count_list  = [[author,poster_count[author]] for author in poster_count]\n",
      "    poster_count_list = sorted(poster_count_list,key=lambda x:x[1], reverse=True)\n",
      "    authors = [x[0] for x in poster_count_list][0:100]\n",
      "    counts = [x[1] for x in poster_count_list][0:100]\n",
      "    with open(filename+\".json\", \"w\") as outfile:\n",
      "        outfile.write(\"{\\\"name\\\":\\\"\" + str(authors) +\"\\\",\\n\\\"count\\\":\"+str(counts)+\"}\\n\")    \n",
      "    return     \n",
      "\n",
      "# poster count when multiple poster\n",
      "def make_csv_poster_count(poster_count,filename,number_min=1):\n",
      "    poster_count_list  = [[author,poster_count[author]] for author in poster_count]\n",
      "    poster_count_list = sorted(poster_count_list,key=lambda x:x[1], reverse=True)\n",
      "    authors = [x[0] for x in poster_count_list][0:100]\n",
      "    counts = [x[1] for x in poster_count_list][0:100]\n",
      "    with open(filename+\".csv\", \"w\") as outfile:\n",
      "        outfile.write(\"Authors, Counts\\n\")\n",
      "        for x in poster_count:\n",
      "            outfile.write(x[0] +', '+ str(x[1])+\"\\n\")"
     ],
     "language": "python",
     "metadata": {},
     "outputs": [],
     "prompt_number": 17
    },
    {
     "cell_type": "code",
     "collapsed": false,
     "input": [
      "filename = 'AbstractsCosyne2012'\n",
      "authors_list,authors_dict = make_authors_list_from_csv(filename)\n",
      "poster_dict,poster_count = make_poster_dict_from_csv(filename)\n",
      "make_json_poster_count(poster_count,'poster_count12',2);\n",
      "make_csv_poster_count(poster_count,'poster_count12',2);\n",
      "\n"
     ],
     "language": "python",
     "metadata": {},
     "outputs": [],
     "prompt_number": 18
    },
    {
     "cell_type": "code",
     "collapsed": false,
     "input": [
      "\n",
      "filename = 'AbstractsCosyne2013'\n",
      "authors_list,authors_dict = make_authors_list_from_csv(filename)\n",
      "poster_dict,poster_count = make_poster_dict_from_csv(filename)\n",
      "make_json_poster_count(poster_count,'poster_count13',2);\n",
      "make_csv_poster_count(poster_count,'poster_count13',2);\n"
     ],
     "language": "python",
     "metadata": {},
     "outputs": [],
     "prompt_number": 19
    },
    {
     "cell_type": "code",
     "collapsed": false,
     "input": [
      "import csv\n",
      "with open('cosyne2011.csv', 'rb') as csvfile:\n",
      "    spamreader = csv.reader(csvfile, delimiter=\"|\", quotechar=\"\")\n",
      "    for row in spamreader:\n",
      "        print ', '.join(row)"
     ],
     "language": "python",
     "metadata": {},
     "outputs": [
      {
       "ename": "TypeError",
       "evalue": "\"delimiter\" must be an 1-character string",
       "output_type": "pyerr",
       "traceback": [
        "\u001b[1;31m---------------------------------------------------------------------------\u001b[0m\n\u001b[1;31mTypeError\u001b[0m                                 Traceback (most recent call last)",
        "\u001b[1;32m<ipython-input-25-2c6c7a86dd01>\u001b[0m in \u001b[0;36m<module>\u001b[1;34m()\u001b[0m\n\u001b[0;32m      1\u001b[0m \u001b[1;32mimport\u001b[0m \u001b[0mcsv\u001b[0m\u001b[1;33m\u001b[0m\u001b[0m\n\u001b[0;32m      2\u001b[0m \u001b[1;32mwith\u001b[0m \u001b[0mopen\u001b[0m\u001b[1;33m(\u001b[0m\u001b[1;34m'cosyne2011.csv'\u001b[0m\u001b[1;33m,\u001b[0m \u001b[1;34m'rb'\u001b[0m\u001b[1;33m)\u001b[0m \u001b[1;32mas\u001b[0m \u001b[0mcsvfile\u001b[0m\u001b[1;33m:\u001b[0m\u001b[1;33m\u001b[0m\u001b[0m\n\u001b[1;32m----> 3\u001b[1;33m     \u001b[0mspamreader\u001b[0m \u001b[1;33m=\u001b[0m \u001b[0mcsv\u001b[0m\u001b[1;33m.\u001b[0m\u001b[0mreader\u001b[0m\u001b[1;33m(\u001b[0m\u001b[0mcsvfile\u001b[0m\u001b[1;33m,\u001b[0m \u001b[0mdelimiter\u001b[0m\u001b[1;33m=\u001b[0m\u001b[1;34m\"\u00ca\"\u001b[0m\u001b[1;33m,\u001b[0m \u001b[0mquotechar\u001b[0m\u001b[1;33m=\u001b[0m\u001b[1;34m\"|\"\u001b[0m\u001b[1;33m)\u001b[0m\u001b[1;33m\u001b[0m\u001b[0m\n\u001b[0m\u001b[0;32m      4\u001b[0m     \u001b[1;32mfor\u001b[0m \u001b[0mrow\u001b[0m \u001b[1;32min\u001b[0m \u001b[0mspamreader\u001b[0m\u001b[1;33m:\u001b[0m\u001b[1;33m\u001b[0m\u001b[0m\n\u001b[0;32m      5\u001b[0m         \u001b[1;32mprint\u001b[0m \u001b[1;34m', '\u001b[0m\u001b[1;33m.\u001b[0m\u001b[0mjoin\u001b[0m\u001b[1;33m(\u001b[0m\u001b[0mrow\u001b[0m\u001b[1;33m)\u001b[0m\u001b[1;33m\u001b[0m\u001b[0m\n",
        "\u001b[1;31mTypeError\u001b[0m: \"delimiter\" must be an 1-character string"
       ]
      }
     ],
     "prompt_number": 25
    },
    {
     "cell_type": "code",
     "collapsed": false,
     "input": [
      "lt[0:5]"
     ],
     "language": "python",
     "metadata": {},
     "outputs": [
      {
       "metadata": {},
       "output_type": "pyout",
       "prompt_number": 9,
       "text": [
        "[0, 1, 2, 3, 4]"
       ]
      }
     ],
     "prompt_number": 9
    },
    {
     "cell_type": "code",
     "collapsed": false,
     "input": [],
     "language": "python",
     "metadata": {},
     "outputs": []
    }
   ],
   "metadata": {}
  }
 ]
}